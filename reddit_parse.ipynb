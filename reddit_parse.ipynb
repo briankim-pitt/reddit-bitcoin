{
  "nbformat": 4,
  "nbformat_minor": 0,
  "metadata": {
    "colab": {
      "name": "reddit_parse.ipynb",
      "provenance": [],
      "authorship_tag": "ABX9TyPzchm7OLlHP2saSrCwk2KU",
      "include_colab_link": true
    },
    "kernelspec": {
      "name": "python3",
      "display_name": "Python 3"
    }
  },
  "cells": [
    {
      "cell_type": "markdown",
      "metadata": {
        "id": "view-in-github",
        "colab_type": "text"
      },
      "source": [
        "<a href=\"https://colab.research.google.com/github/briankim-pitt/reddit-bitcoin/blob/main/reddit_parse.ipynb\" target=\"_parent\"><img src=\"https://colab.research.google.com/assets/colab-badge.svg\" alt=\"Open In Colab\"/></a>"
      ]
    },
    {
      "cell_type": "code",
      "metadata": {
        "id": "z0CNv7JDOS5P",
        "outputId": "f6518f89-8366-4c5c-e7fa-9ca2fe6ae1ba",
        "colab": {
          "base_uri": "https://localhost:8080/",
          "height": 289
        }
      },
      "source": [
        "!pip install praw\n",
        "!pip install nomics-python"
      ],
      "execution_count": null,
      "outputs": [
        {
          "output_type": "stream",
          "text": [
            "Requirement already satisfied: praw in /usr/local/lib/python3.6/dist-packages (7.1.0)\n",
            "Requirement already satisfied: websocket-client>=0.54.0 in /usr/local/lib/python3.6/dist-packages (from praw) (0.57.0)\n",
            "Requirement already satisfied: update-checker>=0.17 in /usr/local/lib/python3.6/dist-packages (from praw) (0.18.0)\n",
            "Requirement already satisfied: prawcore<2.0,>=1.3.0 in /usr/local/lib/python3.6/dist-packages (from praw) (1.5.0)\n",
            "Requirement already satisfied: six in /usr/local/lib/python3.6/dist-packages (from websocket-client>=0.54.0->praw) (1.15.0)\n",
            "Requirement already satisfied: requests>=2.3.0 in /usr/local/lib/python3.6/dist-packages (from update-checker>=0.17->praw) (2.23.0)\n",
            "Requirement already satisfied: chardet<4,>=3.0.2 in /usr/local/lib/python3.6/dist-packages (from requests>=2.3.0->update-checker>=0.17->praw) (3.0.4)\n",
            "Requirement already satisfied: certifi>=2017.4.17 in /usr/local/lib/python3.6/dist-packages (from requests>=2.3.0->update-checker>=0.17->praw) (2020.6.20)\n",
            "Requirement already satisfied: urllib3!=1.25.0,!=1.25.1,<1.26,>=1.21.1 in /usr/local/lib/python3.6/dist-packages (from requests>=2.3.0->update-checker>=0.17->praw) (1.24.3)\n",
            "Requirement already satisfied: idna<3,>=2.5 in /usr/local/lib/python3.6/dist-packages (from requests>=2.3.0->update-checker>=0.17->praw) (2.10)\n",
            "Requirement already satisfied: nomics-python in /usr/local/lib/python3.6/dist-packages (3.1.0)\n",
            "Requirement already satisfied: requests>=2 in /usr/local/lib/python3.6/dist-packages (from nomics-python) (2.23.0)\n",
            "Requirement already satisfied: certifi>=2017.4.17 in /usr/local/lib/python3.6/dist-packages (from requests>=2->nomics-python) (2020.6.20)\n",
            "Requirement already satisfied: chardet<4,>=3.0.2 in /usr/local/lib/python3.6/dist-packages (from requests>=2->nomics-python) (3.0.4)\n",
            "Requirement already satisfied: urllib3!=1.25.0,!=1.25.1,<1.26,>=1.21.1 in /usr/local/lib/python3.6/dist-packages (from requests>=2->nomics-python) (1.24.3)\n",
            "Requirement already satisfied: idna<3,>=2.5 in /usr/local/lib/python3.6/dist-packages (from requests>=2->nomics-python) (2.10)\n"
          ],
          "name": "stdout"
        }
      ]
    },
    {
      "cell_type": "markdown",
      "metadata": {
        "id": "mOdhgBceCfKK"
      },
      "source": [
        ""
      ]
    },
    {
      "cell_type": "code",
      "metadata": {
        "id": "CzNAU21UOqUO",
        "outputId": "3c5c8a3b-deef-4f70-b4f3-a83101fa4e30",
        "colab": {
          "base_uri": "https://localhost:8080/",
          "height": 68
        }
      },
      "source": [
        "import praw\n",
        "\n",
        "reddit = praw.Reddit(\n",
        "    user_agent=\"Comment Extraction (by u/briankim-pitt)\",\n",
        "    client_id=\"OqP6cBiP43mrZA\",\n",
        "    client_secret=\"qDIPJxSz7F-B_GtMt3_-GjD_hwc\",\n",
        ")\n",
        "\n",
        "#bitcoinSub = __call__(display_name: \"Bitcoin\")\n",
        "\n",
        "url = \"https://www.reddit.com/r/Bitcoin/comments/j0moke/daily_discussion_september_27_2020/\"\n",
        "submission = reddit.submission(url=url)\n",
        "\n",
        "bullCount = 0\n",
        "bearCount = 0\n",
        "total = 0\n",
        "bullish = {\"bullish\", \"bull\", \"buy\",\"up\", \"low\", \"dip\"}\n",
        "bearish = {\"bearish\", \"bear\", \"sell\", \"down\", \"high\"}\n",
        "for comment in submission.comments:\n",
        "  bodyParse = comment.body.split()\n",
        "  for word in bodyParse:\n",
        "    if word.lower() in bullish:\n",
        "      bullCount += 1\n",
        "    elif word.lower() in bearish:\n",
        "      bearCount += 1\n",
        "  total += 1\n",
        "\n",
        "print(\"found\" , bullCount, \"bullish comments\")\n",
        "print(\"found\" , bearCount, \"bearish comments\")\n",
        "print(\"total comments analyzed: \", total)"
      ],
      "execution_count": null,
      "outputs": [
        {
          "output_type": "stream",
          "text": [
            "found 2 bullish comments\n",
            "found 0 bearish comments\n",
            "total comments analyzed:  8\n"
          ],
          "name": "stdout"
        }
      ]
    },
    {
      "cell_type": "code",
      "metadata": {
        "id": "0A-baq4hwFpV",
        "outputId": "b05de88c-6d85-46de-e99f-9d26d8ed6752",
        "colab": {
          "base_uri": "https://localhost:8080/",
          "height": 34
        }
      },
      "source": [
        "from nomics import Nomics\n",
        "import json\n",
        "\n",
        "nomics = Nomics(\"8e0079890743275fc7bdd9c3d1b71d54\")\n",
        "\n",
        "markets = nomics.Markets.get_markets(exchange = 'binance')\n",
        "\n",
        "btc = (nomics.Currencies.get_currencies(ids = \"BTC\",interval = \"1h\"))[0]\n",
        "\n",
        "print(btc.get(\"price\"))\n",
        "\n",
        "#Crypto Market Cap & Pricing Data Provided By Nomics \n"
      ],
      "execution_count": null,
      "outputs": [
        {
          "output_type": "stream",
          "text": [
            "10323.20752830\n"
          ],
          "name": "stdout"
        }
      ]
    }
  ]
}